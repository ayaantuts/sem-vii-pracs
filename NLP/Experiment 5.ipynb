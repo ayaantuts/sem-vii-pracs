{
  "nbformat": 4,
  "nbformat_minor": 0,
  "metadata": {
    "colab": {
      "provenance": []
    },
    "kernelspec": {
      "name": "python3",
      "display_name": "Python 3"
    },
    "language_info": {
      "name": "python"
    }
  },
  "cells": [
    {
      "cell_type": "markdown",
      "source": [
        "# Implementing Parse Trees from a Given Sentence and Corpus\n",
        "1. Construct **parse trees** for given dataset.\n",
        "2. Implement a syntax tree generation for Indigenous / English language structures.\n",
        "3. Analyse parsing challenges for Indian language datasets"
      ],
      "metadata": {
        "id": "JLm2MCweP5KF"
      }
    },
    {
      "cell_type": "code",
      "source": [
        "!pip install nltk stanza spacy\n",
        "!python -m spacy download xx_ent_wiki_sm"
      ],
      "metadata": {
        "collapsed": true,
        "id": "MrLSEHAGREep"
      },
      "execution_count": null,
      "outputs": []
    },
    {
      "cell_type": "code",
      "source": [
        "import nltk\n",
        "from nltk import CFG\n",
        "import spacy\n",
        "from spacy import displacy\n",
        "import stanza\n",
        "\n",
        "nltk.download('punkt')\n",
        "nltk.download('averaged_perceptron_tagger')"
      ],
      "metadata": {
        "id": "WQrcBQi9QThh"
      },
      "execution_count": null,
      "outputs": []
    },
    {
      "cell_type": "code",
      "source": [
        "stanza.download('mr')  # Download the Marathi model\n",
        "nlp = stanza.Pipeline('mr')\n",
        "\n",
        "sentence = \"मी कॉलेज जात आहे\"\n",
        "doc = nlp(sentence)"
      ],
      "metadata": {
        "id": "jncVGz2BQzJp"
      },
      "execution_count": null,
      "outputs": []
    },
    {
      "cell_type": "code",
      "source": [
        "nltk.download('punkt_tab')\n",
        "marathi_grammar = CFG.fromstring(\"\"\"\n",
        "    S -> NP VP\n",
        "    NP -> Pronoun | Noun\n",
        "    VP -> Verb | Verb NP\n",
        "    Pronoun -> 'मी' | 'तू' | 'तो'\n",
        "    Noun -> 'कॉलेज' | 'घर'\n",
        "    Verb -> 'जात' | 'आहे'\n",
        "\"\"\")\n",
        "\n",
        "parser = nltk.ChartParser(marathi_grammar)\n",
        "sentence = nltk.word_tokenize('मी कॉलेज जात आहे')\n",
        "\n",
        "for tree in parser.parse(sentence):\n",
        "    tree.pretty_print()"
      ],
      "metadata": {
        "id": "QJt849LMQ1U6"
      },
      "execution_count": null,
      "outputs": []
    },
    {
      "cell_type": "code",
      "source": [
        "marathi_grammar_extended = CFG.fromstring(\"\"\"\n",
        "    S -> NP VP\n",
        "    NP -> Pronoun | Noun\n",
        "    VP -> Verb | Verb NP\n",
        "    Pronoun -> 'मी' | 'तू' | 'तो' | 'ती'\n",
        "    Noun -> 'कॉलेज' | 'घर' | 'मुलगा' | 'मुलगी'\n",
        "    Verb -> 'जात' | 'आहे' | 'करतो' | 'आहेत'\n",
        "\"\"\")\n",
        "\n",
        "sentence = nltk.word_tokenize(\"मी कॉलेज जात आहे\")\n",
        "parser = nltk.ChartParser(marathi_grammar_extended)\n",
        "for tree in parser.parse(sentence):\n",
        "    tree.pretty_print()"
      ],
      "metadata": {
        "id": "98dIk_eEQ3EL"
      },
      "execution_count": null,
      "outputs": []
    },
    {
      "cell_type": "code",
      "source": [
        "sentence_1 = \"मी कॉलेज जात आहे.\"  # Subject-Object-Verb (SOV)\n",
        "sentence_2 = \"कॉलेज मी जात आहे.\"  # Object-Subject-Verb (OSV)\n",
        "sentence_3 = \"घरात मुलगा खेळत आहे.\"  # Complex structure with adverbial phrases\n",
        "\n",
        "print(\"Sentence 1 parse: \")\n",
        "doc1 = nlp(sentence_1)\n",
        "for sent in doc1.sentences:\n",
        "    sent.print_dependencies()\n",
        "\n",
        "print(\"\\nSentence 2 parse: \")\n",
        "doc2 = nlp(sentence_2)\n",
        "for sent in doc2.sentences:\n",
        "    sent.print_dependencies()\n",
        "\n",
        "print(\"\\nSentence 3 parse: \")\n",
        "doc3 = nlp(sentence_3)\n",
        "for sent in doc3.sentences:\n",
        "    sent.print_dependencies()"
      ],
      "metadata": {
        "id": "hIH_nmGaQ4Dp"
      },
      "execution_count": null,
      "outputs": []
    }
  ]
}