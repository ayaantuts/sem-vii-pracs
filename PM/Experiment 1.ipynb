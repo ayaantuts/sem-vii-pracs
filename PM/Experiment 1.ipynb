{
 "cells": [
  {
   "cell_type": "markdown",
   "id": "608a99d9",
   "metadata": {},
   "source": [
    "# Experiment 1\n",
    "On the relevant dataset, perform summary statistics and conclude the inference after the task. [CL for the mean in the additional tab of summary statistics]\n",
    "1. Draw a histrogram plot and box plot on the given dataset\n",
    "2. Calculate confidence level on the sample statistic."
   ]
  },
  {
   "cell_type": "code",
   "execution_count": null,
   "id": "5ea5f074",
   "metadata": {},
   "outputs": [],
   "source": [
    "# Iris dataset\n",
    "from sklearn.datasets import load_iris\n",
    "\n",
    "iris = load_iris()\n",
    "X = iris.data\n",
    "y = iris.target"
   ]
  },
  {
   "cell_type": "code",
   "execution_count": null,
   "id": "5c74f1cc",
   "metadata": {},
   "outputs": [],
   "source": [
    "import pandas as pd\n",
    "import numpy as np\n",
    "import matplotlib.pyplot as plt\n",
    "\n",
    "# Convert to DataFrame for easier manipulation\n",
    "df = pd.DataFrame(X, columns=iris.feature_names)\n",
    "df['target'] = y\n",
    "\n",
    "# Summary statistics\n",
    "summary_stats = df.describe()\n",
    "print(\"Summary Statistics:\")\n",
    "print(summary_stats)\n",
    "\n",
    "# Histogram plot\n",
    "plt.figure(figsize=(10, 6))\n",
    "df.hist(bins=20, figsize=(10, 6))\n",
    "plt.suptitle('Histogram of Features')\n",
    "plt.tight_layout()\n",
    "plt.show()\n",
    "\n",
    "# Box plot\n",
    "plt.figure(figsize=(10, 6))\n",
    "df.boxplot(figsize=(10, 6))\n",
    "plt.title('Box Plot of Features')\n",
    "plt.xticks(rotation=45)\n",
    "plt.tight_layout()\n",
    "plt.show()\n",
    "\n",
    "# Confidence level calculation\n",
    "confidence_level = 0.95\n",
    "sample_mean = df['target'].mean()\n",
    "sample_std = df['target'].std()\n",
    "sample_size = len(df['target'])\n",
    "z_score = 1.96  # for 95% confidence level\n",
    "margin_of_error = z_score * (sample_std / np.sqrt(sample_size))\n",
    "confidence_interval = (sample_mean - margin_of_error, sample_mean + margin_of_error)\n",
    "print(f\"Confidence Interval for the mean of target variable at {confidence_level*100}% confidence level: {confidence_interval}\")\n",
    "\n",
    "# Conclusion\n",
    "print(\"The summary statistics provide insights into the distribution of the features in the Iris dataset. The histogram and box plot visually represent the data distribution, while the confidence interval gives an estimate of the mean target variable with a 95% confidence level.\")\n",
    "# The summary statistics, histogram, and box plot indicate that the dataset is well-distributed across the different species of iris flowers.\n",
    "# The confidence interval suggests that we can be 95% confident that the true mean of the target variable lies within the calculated range."
   ]
  }
 ],
 "metadata": {
  "kernelspec": {
   "display_name": "pm",
   "language": "python",
   "name": "python3"
  },
  "language_info": {
   "codemirror_mode": {
    "name": "ipython",
    "version": 3
   },
   "file_extension": ".py",
   "mimetype": "text/x-python",
   "name": "python",
   "nbconvert_exporter": "python",
   "pygments_lexer": "ipython3",
   "version": "3.13.5"
  }
 },
 "nbformat": 4,
 "nbformat_minor": 5
}
