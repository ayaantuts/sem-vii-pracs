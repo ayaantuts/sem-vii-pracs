{
 "cells": [
  {
   "cell_type": "markdown",
   "id": "5ec91f14",
   "metadata": {},
   "source": [
    "# Experiment No 2\n",
    "Analyse the relevant dataset (here iris from sklearn.datasets) by\n",
    "1. Outlier analysis with box plot\n",
    "2. Correlation Analysis\n",
    "3. Use normal probability plot / quantile-quantile plot"
   ]
  },
  {
   "cell_type": "code",
   "execution_count": null,
   "id": "839e0b91",
   "metadata": {},
   "outputs": [],
   "source": [
    "# Import necessary libraries\n",
    "import numpy as np\n",
    "import pandas as pd\n",
    "import matplotlib.pyplot as plt\n",
    "from sklearn.datasets import load_iris\n",
    "from scipy import stats\n",
    "\n",
    "# Load Iris dataset\n",
    "iris = load_iris()\n",
    "data = pd.DataFrame(iris.data, columns=iris.feature_names)"
   ]
  },
  {
   "cell_type": "code",
   "execution_count": null,
   "id": "8282cf60",
   "metadata": {},
   "outputs": [],
   "source": [
    "# Outlier Analysis with Box Plot\n",
    "plt.figure(figsize=(12, 6))\n",
    "for i, column in enumerate(data.columns):\n",
    "    plt.subplot(2, 2, i+1)\n",
    "    plt.boxplot(data[column])\n",
    "    plt.title(f'Box Plot of {column}')\n",
    "plt.tight_layout()\n",
    "plt.show()"
   ]
  },
  {
   "cell_type": "code",
   "execution_count": null,
   "id": "16d7ba7c",
   "metadata": {},
   "outputs": [],
   "source": [
    "# Compute the correlation matrix\n",
    "correlation_matrix = data.corr()\n",
    "\n",
    "# Display the correlation matrix as a heatmap\n",
    "plt.figure(figsize=(8, 6))\n",
    "plt.imshow(correlation_matrix, cmap='coolwarm', interpolation='none')\n",
    "plt.colorbar()\n",
    "plt.xticks(np.arange(len(data.columns)), data.columns, rotation=45)\n",
    "plt.yticks(np.arange(len(data.columns)), data.columns)\n",
    "plt.title(\"Correlation Matrix\")\n",
    "plt.show()\n"
   ]
  },
  {
   "cell_type": "code",
   "execution_count": null,
   "id": "18365517",
   "metadata": {},
   "outputs": [],
   "source": [
    "# Normal Probability Plot / Q-Q Plot\n",
    "plt.figure(figsize=(12, 6))\n",
    "for i, column in enumerate(data.columns):\n",
    "    plt.subplot(2, 2, i+1)\n",
    "    stats.probplot(data[column], dist=\"norm\", plot=plt)\n",
    "    plt.title(f'Q-Q Plot of {column}')\n",
    "plt.tight_layout()\n",
    "plt.show()\n"
   ]
  }
 ],
 "metadata": {
  "kernelspec": {
   "display_name": "pm",
   "language": "python",
   "name": "python3"
  },
  "language_info": {
   "codemirror_mode": {
    "name": "ipython",
    "version": 3
   },
   "file_extension": ".py",
   "mimetype": "text/x-python",
   "name": "python",
   "nbconvert_exporter": "python",
   "pygments_lexer": "ipython3",
   "version": "3.10.12"
  }
 },
 "nbformat": 4,
 "nbformat_minor": 5
}
